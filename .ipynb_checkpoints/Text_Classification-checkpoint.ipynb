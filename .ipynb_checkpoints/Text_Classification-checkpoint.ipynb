{
 "cells": [
  {
   "cell_type": "markdown",
   "id": "954f7d66-4747-4488-a427-26eeb6b7e33a",
   "metadata": {},
   "source": [
    "# Text Classification using Scikit-Learn"
   ]
  },
  {
   "cell_type": "markdown",
   "id": "9383f664-9ac6-4014-9dcf-05add33dcb5a",
   "metadata": {},
   "source": [
    "### 1. Load the dataset (with sentiment)"
   ]
  },
  {
   "cell_type": "code",
   "execution_count": 1,
   "id": "4e9b4ae4-8cf0-4337-b119-5c014a86065a",
   "metadata": {},
   "outputs": [],
   "source": [
    "import pandas as pd"
   ]
  },
  {
   "cell_type": "code",
   "execution_count": 3,
   "id": "d26d99b5-d051-4dbf-ae37-67d644bdaa26",
   "metadata": {},
   "outputs": [
    {
     "data": {
      "text/html": [
       "<div>\n",
       "<style scoped>\n",
       "    .dataframe tbody tr th:only-of-type {\n",
       "        vertical-align: middle;\n",
       "    }\n",
       "\n",
       "    .dataframe tbody tr th {\n",
       "        vertical-align: top;\n",
       "    }\n",
       "\n",
       "    .dataframe thead th {\n",
       "        text-align: right;\n",
       "    }\n",
       "</style>\n",
       "<table border=\"1\" class=\"dataframe\">\n",
       "  <thead>\n",
       "    <tr style=\"text-align: right;\">\n",
       "      <th></th>\n",
       "      <th>movie_title</th>\n",
       "      <th>rating</th>\n",
       "      <th>genre</th>\n",
       "      <th>in_theaters_date</th>\n",
       "      <th>movie_info</th>\n",
       "      <th>directors</th>\n",
       "      <th>director_gender</th>\n",
       "      <th>tomatometer_rating</th>\n",
       "      <th>audience_rating</th>\n",
       "      <th>critics_consensus</th>\n",
       "      <th>sentiment</th>\n",
       "    </tr>\n",
       "  </thead>\n",
       "  <tbody>\n",
       "    <tr>\n",
       "      <th>0</th>\n",
       "      <td>A Dog's Journey</td>\n",
       "      <td>PG</td>\n",
       "      <td>Drama, Kids &amp; Family</td>\n",
       "      <td>5/17/19</td>\n",
       "      <td>Bailey (voiced again by Josh Gad) is living th...</td>\n",
       "      <td>Gail Mancuso</td>\n",
       "      <td>female</td>\n",
       "      <td>50</td>\n",
       "      <td>92</td>\n",
       "      <td>A Dog's Journey is as sentimental as one might...</td>\n",
       "      <td>0.9837</td>\n",
       "    </tr>\n",
       "    <tr>\n",
       "      <th>1</th>\n",
       "      <td>A Dog's Way Home</td>\n",
       "      <td>PG</td>\n",
       "      <td>Drama</td>\n",
       "      <td>1/11/19</td>\n",
       "      <td>Separated from her owner, a dog sets off on an...</td>\n",
       "      <td>Charles Martin Smith</td>\n",
       "      <td>male</td>\n",
       "      <td>60</td>\n",
       "      <td>71</td>\n",
       "      <td>A Dog's Way Home may not quite be a family-fri...</td>\n",
       "      <td>0.9237</td>\n",
       "    </tr>\n",
       "  </tbody>\n",
       "</table>\n",
       "</div>"
      ],
      "text/plain": [
       "        movie_title rating                 genre in_theaters_date  \\\n",
       "0   A Dog's Journey     PG  Drama, Kids & Family          5/17/19   \n",
       "1  A Dog's Way Home     PG                 Drama          1/11/19   \n",
       "\n",
       "                                          movie_info             directors  \\\n",
       "0  Bailey (voiced again by Josh Gad) is living th...          Gail Mancuso   \n",
       "1  Separated from her owner, a dog sets off on an...  Charles Martin Smith   \n",
       "\n",
       "  director_gender  tomatometer_rating  audience_rating  \\\n",
       "0          female                  50               92   \n",
       "1            male                  60               71   \n",
       "\n",
       "                                   critics_consensus  sentiment  \n",
       "0  A Dog's Journey is as sentimental as one might...     0.9837  \n",
       "1  A Dog's Way Home may not quite be a family-fri...     0.9237  "
      ]
     },
     "execution_count": 3,
     "metadata": {},
     "output_type": "execute_result"
    }
   ],
   "source": [
    "df = pd.read_pickle('movie_reviews_with_sentiment.pkl')\n",
    "df.head(2)"
   ]
  },
  {
   "cell_type": "markdown",
   "id": "916a92dd-a792-4860-a650-a847587e264d",
   "metadata": {},
   "source": [
    "### 2. Clean & Normalize the data"
   ]
  },
  {
   "cell_type": "code",
   "execution_count": 5,
   "id": "8feee9fd-97fb-4623-87eb-ed0f3a29f801",
   "metadata": {},
   "outputs": [],
   "source": [
    "import clean_and_normalize_text as cn"
   ]
  },
  {
   "cell_type": "code",
   "execution_count": null,
   "id": "3a02a943-b9f8-40f1-a42d-0f16880ab14e",
   "metadata": {},
   "outputs": [],
   "source": []
  }
 ],
 "metadata": {
  "kernelspec": {
   "display_name": "Python 3 (ipykernel)",
   "language": "python",
   "name": "python3"
  },
  "language_info": {
   "codemirror_mode": {
    "name": "ipython",
    "version": 3
   },
   "file_extension": ".py",
   "mimetype": "text/x-python",
   "name": "python",
   "nbconvert_exporter": "python",
   "pygments_lexer": "ipython3",
   "version": "3.12.11"
  }
 },
 "nbformat": 4,
 "nbformat_minor": 5
}
