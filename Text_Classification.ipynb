{
 "cells": [
  {
   "cell_type": "markdown",
   "id": "954f7d66-4747-4488-a427-26eeb6b7e33a",
   "metadata": {},
   "source": [
    "# Text Classification using Scikit-Learn"
   ]
  },
  {
   "cell_type": "markdown",
   "id": "9383f664-9ac6-4014-9dcf-05add33dcb5a",
   "metadata": {},
   "source": [
    "## 1. Load the dataset (with sentiment)"
   ]
  },
  {
   "cell_type": "code",
   "execution_count": 1,
   "id": "4e9b4ae4-8cf0-4337-b119-5c014a86065a",
   "metadata": {},
   "outputs": [],
   "source": [
    "import pandas as pd"
   ]
  },
  {
   "cell_type": "code",
   "execution_count": 2,
   "id": "028c12c3-eafd-4e6b-b435-abbdbd30ca46",
   "metadata": {},
   "outputs": [],
   "source": [
    "pd.set_option('display.max_colwidth', None)"
   ]
  },
  {
   "cell_type": "code",
   "execution_count": 3,
   "id": "d26d99b5-d051-4dbf-ae37-67d644bdaa26",
   "metadata": {},
   "outputs": [
    {
     "data": {
      "text/html": [
       "<div>\n",
       "<style scoped>\n",
       "    .dataframe tbody tr th:only-of-type {\n",
       "        vertical-align: middle;\n",
       "    }\n",
       "\n",
       "    .dataframe tbody tr th {\n",
       "        vertical-align: top;\n",
       "    }\n",
       "\n",
       "    .dataframe thead th {\n",
       "        text-align: right;\n",
       "    }\n",
       "</style>\n",
       "<table border=\"1\" class=\"dataframe\">\n",
       "  <thead>\n",
       "    <tr style=\"text-align: right;\">\n",
       "      <th></th>\n",
       "      <th>movie_title</th>\n",
       "      <th>rating</th>\n",
       "      <th>genre</th>\n",
       "      <th>in_theaters_date</th>\n",
       "      <th>movie_info</th>\n",
       "      <th>directors</th>\n",
       "      <th>director_gender</th>\n",
       "      <th>tomatometer_rating</th>\n",
       "      <th>audience_rating</th>\n",
       "      <th>critics_consensus</th>\n",
       "      <th>sentiment</th>\n",
       "    </tr>\n",
       "  </thead>\n",
       "  <tbody>\n",
       "    <tr>\n",
       "      <th>0</th>\n",
       "      <td>A Dog's Journey</td>\n",
       "      <td>PG</td>\n",
       "      <td>Drama, Kids &amp; Family</td>\n",
       "      <td>5/17/19</td>\n",
       "      <td>Bailey (voiced again by Josh Gad) is living the good life on the Michigan farm of his \"boy,\" Ethan (Dennis Quaid) and Ethan's wife Hannah (Marg Helgenberger). He even has a new playmate: Ethan and Hannah's baby granddaughter, CJ. The problem is that CJ's mom, Gloria (Betty Gilpin), decides to take CJ away. As Bailey's soul prepares to leave this life for a new one, he makes a promise to Ethan to find CJ and protect her at any cost. Thus begins Bailey's adventure through multiple lives filled with love, friendship and devotion as he, CJ (Kathryn Prescott), and CJ's best friend Trent (Henry Lau) experience joy and heartbreak, music and laughter, and few really good belly rubs.</td>\n",
       "      <td>Gail Mancuso</td>\n",
       "      <td>female</td>\n",
       "      <td>50</td>\n",
       "      <td>92</td>\n",
       "      <td>A Dog's Journey is as sentimental as one might expect, but even cynical viewers may find their ability to resist shedding a tear stretched to the puppermost limit.</td>\n",
       "      <td>0.9837</td>\n",
       "    </tr>\n",
       "    <tr>\n",
       "      <th>1</th>\n",
       "      <td>A Dog's Way Home</td>\n",
       "      <td>PG</td>\n",
       "      <td>Drama</td>\n",
       "      <td>1/11/19</td>\n",
       "      <td>Separated from her owner, a dog sets off on an 400-mile journey to get back to the safety and security of the place she calls home. Along the way, she meets a series of new friends and manages to bring a little bit of comfort and joy to their lives.</td>\n",
       "      <td>Charles Martin Smith</td>\n",
       "      <td>male</td>\n",
       "      <td>60</td>\n",
       "      <td>71</td>\n",
       "      <td>A Dog's Way Home may not quite be a family-friendly animal drama fan's best friend, but this canine adventure is no less heartwarming for its familiarity.</td>\n",
       "      <td>0.9237</td>\n",
       "    </tr>\n",
       "  </tbody>\n",
       "</table>\n",
       "</div>"
      ],
      "text/plain": [
       "        movie_title rating                 genre in_theaters_date  \\\n",
       "0   A Dog's Journey     PG  Drama, Kids & Family          5/17/19   \n",
       "1  A Dog's Way Home     PG                 Drama          1/11/19   \n",
       "\n",
       "                                                                                                                                                                                                                                                                                                                                                                                                                                                                                                                                                                                                                                                                                                    movie_info  \\\n",
       "0  Bailey (voiced again by Josh Gad) is living the good life on the Michigan farm of his \"boy,\" Ethan (Dennis Quaid) and Ethan's wife Hannah (Marg Helgenberger). He even has a new playmate: Ethan and Hannah's baby granddaughter, CJ. The problem is that CJ's mom, Gloria (Betty Gilpin), decides to take CJ away. As Bailey's soul prepares to leave this life for a new one, he makes a promise to Ethan to find CJ and protect her at any cost. Thus begins Bailey's adventure through multiple lives filled with love, friendship and devotion as he, CJ (Kathryn Prescott), and CJ's best friend Trent (Henry Lau) experience joy and heartbreak, music and laughter, and few really good belly rubs.   \n",
       "1                                                                                                                                                                                                                                                                                                                                                                                                                                                    Separated from her owner, a dog sets off on an 400-mile journey to get back to the safety and security of the place she calls home. Along the way, she meets a series of new friends and manages to bring a little bit of comfort and joy to their lives.   \n",
       "\n",
       "              directors director_gender  tomatometer_rating  audience_rating  \\\n",
       "0          Gail Mancuso          female                  50               92   \n",
       "1  Charles Martin Smith            male                  60               71   \n",
       "\n",
       "                                                                                                                                                     critics_consensus  \\\n",
       "0  A Dog's Journey is as sentimental as one might expect, but even cynical viewers may find their ability to resist shedding a tear stretched to the puppermost limit.   \n",
       "1           A Dog's Way Home may not quite be a family-friendly animal drama fan's best friend, but this canine adventure is no less heartwarming for its familiarity.   \n",
       "\n",
       "   sentiment  \n",
       "0     0.9837  \n",
       "1     0.9237  "
      ]
     },
     "execution_count": 3,
     "metadata": {},
     "output_type": "execute_result"
    }
   ],
   "source": [
    "df = pd.read_pickle('movie_reviews_with_sentiment.pkl')\n",
    "df.head(2)"
   ]
  },
  {
   "cell_type": "markdown",
   "id": "916a92dd-a792-4860-a650-a847587e264d",
   "metadata": {},
   "source": [
    "## 2. Clean & Normalize the data"
   ]
  },
  {
   "cell_type": "code",
   "execution_count": 4,
   "id": "8feee9fd-97fb-4623-87eb-ed0f3a29f801",
   "metadata": {},
   "outputs": [],
   "source": [
    "import clean_and_normalize_text as cn"
   ]
  },
  {
   "cell_type": "code",
   "execution_count": 5,
   "id": "3a02a943-b9f8-40f1-a42d-0f16880ab14e",
   "metadata": {},
   "outputs": [
    {
     "data": {
      "text/html": [
       "<div>\n",
       "<style scoped>\n",
       "    .dataframe tbody tr th:only-of-type {\n",
       "        vertical-align: middle;\n",
       "    }\n",
       "\n",
       "    .dataframe tbody tr th {\n",
       "        vertical-align: top;\n",
       "    }\n",
       "\n",
       "    .dataframe thead th {\n",
       "        text-align: right;\n",
       "    }\n",
       "</style>\n",
       "<table border=\"1\" class=\"dataframe\">\n",
       "  <thead>\n",
       "    <tr style=\"text-align: right;\">\n",
       "      <th></th>\n",
       "      <th>movie_title</th>\n",
       "      <th>movie_info</th>\n",
       "      <th>director_gender</th>\n",
       "      <th>sentiment</th>\n",
       "      <th>movie_info_clean</th>\n",
       "    </tr>\n",
       "  </thead>\n",
       "  <tbody>\n",
       "    <tr>\n",
       "      <th>0</th>\n",
       "      <td>A Dog's Journey</td>\n",
       "      <td>Bailey (voiced again by Josh Gad) is living the good life on the Michigan farm of his \"boy,\" Ethan (Dennis Quaid) and Ethan's wife Hannah (Marg Helgenberger). He even has a new playmate: Ethan and Hannah's baby granddaughter, CJ. The problem is that CJ's mom, Gloria (Betty Gilpin), decides to take CJ away. As Bailey's soul prepares to leave this life for a new one, he makes a promise to Ethan to find CJ and protect her at any cost. Thus begins Bailey's adventure through multiple lives filled with love, friendship and devotion as he, CJ (Kathryn Prescott), and CJ's best friend Trent (Henry Lau) experience joy and heartbreak, music and laughter, and few really good belly rubs.</td>\n",
       "      <td>female</td>\n",
       "      <td>0.9837</td>\n",
       "      <td>bailey voice josh gad live good life michigan farm boy ethan dennis quaid ethans wife hannah marg helgenberger new playmate ethan hannah baby granddaughter cj problem cjs mom gloria betty gilpin decide cj away bailey soul prepare leave life new make promise ethan find cj protect cost begin bailey adventure multiple life fill love friendship devotion cj kathryn prescott cjs good friend trent henry lau experience joy heartbreak music laughter good belly rub</td>\n",
       "    </tr>\n",
       "    <tr>\n",
       "      <th>1</th>\n",
       "      <td>A Dog's Way Home</td>\n",
       "      <td>Separated from her owner, a dog sets off on an 400-mile journey to get back to the safety and security of the place she calls home. Along the way, she meets a series of new friends and manages to bring a little bit of comfort and joy to their lives.</td>\n",
       "      <td>male</td>\n",
       "      <td>0.9237</td>\n",
       "      <td>separate owner dog set 400mile journey safety security place call home way meet series new friend manage bring little bit comfort joy life</td>\n",
       "    </tr>\n",
       "  </tbody>\n",
       "</table>\n",
       "</div>"
      ],
      "text/plain": [
       "        movie_title  \\\n",
       "0   A Dog's Journey   \n",
       "1  A Dog's Way Home   \n",
       "\n",
       "                                                                                                                                                                                                                                                                                                                                                                                                                                                                                                                                                                                                                                                                                                    movie_info  \\\n",
       "0  Bailey (voiced again by Josh Gad) is living the good life on the Michigan farm of his \"boy,\" Ethan (Dennis Quaid) and Ethan's wife Hannah (Marg Helgenberger). He even has a new playmate: Ethan and Hannah's baby granddaughter, CJ. The problem is that CJ's mom, Gloria (Betty Gilpin), decides to take CJ away. As Bailey's soul prepares to leave this life for a new one, he makes a promise to Ethan to find CJ and protect her at any cost. Thus begins Bailey's adventure through multiple lives filled with love, friendship and devotion as he, CJ (Kathryn Prescott), and CJ's best friend Trent (Henry Lau) experience joy and heartbreak, music and laughter, and few really good belly rubs.   \n",
       "1                                                                                                                                                                                                                                                                                                                                                                                                                                                    Separated from her owner, a dog sets off on an 400-mile journey to get back to the safety and security of the place she calls home. Along the way, she meets a series of new friends and manages to bring a little bit of comfort and joy to their lives.   \n",
       "\n",
       "  director_gender  sentiment  \\\n",
       "0          female     0.9837   \n",
       "1            male     0.9237   \n",
       "\n",
       "                                                                                                                                                                                                                                                                                                                                                                                                                                                              movie_info_clean  \n",
       "0  bailey voice josh gad live good life michigan farm boy ethan dennis quaid ethans wife hannah marg helgenberger new playmate ethan hannah baby granddaughter cj problem cjs mom gloria betty gilpin decide cj away bailey soul prepare leave life new make promise ethan find cj protect cost begin bailey adventure multiple life fill love friendship devotion cj kathryn prescott cjs good friend trent henry lau experience joy heartbreak music laughter good belly rub  \n",
       "1                                                                                                                                                                                                                                                                                                                                   separate owner dog set 400mile journey safety security place call home way meet series new friend manage bring little bit comfort joy life  "
      ]
     },
     "execution_count": 5,
     "metadata": {},
     "output_type": "execute_result"
    }
   ],
   "source": [
    "df['movie_info_clean'] = cn.clean_and_normalize(df.movie_info)\n",
    "temp_df = df[['movie_title', 'movie_info', 'director_gender', 'sentiment', 'movie_info_clean']]\n",
    "temp_df.head(2)"
   ]
  },
  {
   "cell_type": "markdown",
   "id": "a5de0d00-7318-4093-94ff-7eafc743af4c",
   "metadata": {},
   "source": [
    "## 3. CountVectorizer + Naive Bayes & Logistic Regression & Linear SVM"
   ]
  },
  {
   "cell_type": "markdown",
   "id": "2ed0877c-8b50-49b7-b788-affdf66c4a54",
   "metadata": {},
   "source": [
    "### 1. Import everything we need"
   ]
  },
  {
   "cell_type": "code",
   "execution_count": 10,
   "id": "60a3f894-cd71-4f00-80ed-d01c9c6447b9",
   "metadata": {},
   "outputs": [],
   "source": [
    "import pandas as pd\n",
    "from sklearn.feature_extraction.text import CountVectorizer\n",
    "from sklearn.naive_bayes import MultinomialNB\n",
    "from sklearn.linear_model import LogisticRegression\n",
    "from sklearn.svm import LinearSVC\n",
    "from sklearn.pipeline import Pipeline\n",
    "from sklearn.model_selection import GridSearchCV, train_test_split\n",
    "from sklearn.metrics import classification_report, confusion_matrix, precision_score, recall_score, f1_score, accuracy_score"
   ]
  },
  {
   "cell_type": "markdown",
   "id": "6bc0126b-baa4-4170-baae-7554ad18c8f6",
   "metadata": {},
   "source": [
    "### 2. Split the data into train & test (80% train, 20% test)"
   ]
  },
  {
   "cell_type": "code",
   "execution_count": 31,
   "id": "adc04065-d382-4bde-b4a6-0f15cb3b567b",
   "metadata": {},
   "outputs": [
    {
     "name": "stdout",
     "output_type": "stream",
     "text": [
      "distribution of genders in training data:  director_gender\n",
      "male      0.810606\n",
      "female    0.189394\n",
      "Name: proportion, dtype: float64\n",
      "distribution of genders in testing data:  director_gender\n",
      "male      0.794118\n",
      "female    0.205882\n",
      "Name: proportion, dtype: float64\n"
     ]
    }
   ],
   "source": [
    "X_train, X_test, y_train, y_test = train_test_split(\n",
    "    df['movie_info_clean'], df['director_gender'], test_size=0.2, random_state=42, stratify=df['director_gender']\n",
    ")\n",
    "print('distribution of genders in training data: ', y_train.value_counts(normalize=True))\n",
    "print('distribution of genders in testing data: ', y_test.value_counts(normalize=True))"
   ]
  },
  {
   "cell_type": "markdown",
   "id": "2b73e098-2483-4cd1-bcde-0dc6729d522a",
   "metadata": {},
   "source": [
    "### 3. Define the 3 models we wanna train & test on + the hyperparams for CountVectorizer"
   ]
  },
  {
   "cell_type": "code",
   "execution_count": 33,
   "id": "6a1b6329-9354-4922-bd1f-a45c0753aa60",
   "metadata": {},
   "outputs": [],
   "source": [
    "models = {\n",
    "    \"Naive Bayes\": (\n",
    "        MultinomialNB(),\n",
    "        {\n",
    "            'vectorizer__ngram_range': [(1,1), (1,2)],\n",
    "            'vectorizer__min_df': [0.01, 0.05, 0.1],\n",
    "            'vectorizer__max_df': [0.8, 0.9, 1.0],\n",
    "            'clf__alpha': [0.1, 1.0, 5.0, 10.0]\n",
    "        }\n",
    "    ),\n",
    "    \"Logistic Regression\": (\n",
    "        LogisticRegression(max_iter=500, solver='liblinear', class_weight='balanced'),\n",
    "        {\n",
    "            'vectorizer__ngram_range': [(1,1), (1,2)],\n",
    "            'vectorizer__min_df': [0.01, 0.05, 0.1],\n",
    "            'vectorizer__max_df': [0.8, 0.9, 1.0],\n",
    "            'clf__C': [0.01, 0.1, 1, 10]\n",
    "        }\n",
    "    ),\n",
    "    \"Linear SVM\": (\n",
    "        LinearSVC(class_weight='balanced'),\n",
    "        {\n",
    "            'vectorizer__ngram_range': [(1,1), (1,2)],\n",
    "            'vectorizer__min_df': [0.01, 0.05, 0.1],\n",
    "            'vectorizer__max_df': [0.8, 0.9, 1.0],\n",
    "            'clf__C': [0.01, 0.1, 1, 10]\n",
    "        }\n",
    "    )\n",
    "}"
   ]
  },
  {
   "cell_type": "markdown",
   "id": "ce391f0e-49c1-43cb-9407-338bb7ee0ed1",
   "metadata": {},
   "source": [
    "### 4. Find the best params & best results for each model using Grid Search + Cross-Validation (GridSearchCV)"
   ]
  },
  {
   "cell_type": "code",
   "execution_count": 37,
   "id": "16219316-321a-4735-9b6d-bd0f584a0ada",
   "metadata": {
    "scrolled": true
   },
   "outputs": [
    {
     "name": "stdout",
     "output_type": "stream",
     "text": [
      "============================================================\n",
      "Training Naive Bayes...\n",
      "Naive Bayes Best Params: {'clf__alpha': 0.1, 'vectorizer__max_df': 0.8, 'vectorizer__min_df': 0.05, 'vectorizer__ngram_range': (1, 1)}\n",
      "Naive Bayes CV Best F1-macro: 0.5881990542307218\n",
      "Naive Bayes Test F1-macro: 0.494\n",
      "Classification Report:\n",
      "               precision    recall  f1-score   support\n",
      "\n",
      "      female      0.200     0.143     0.167         7\n",
      "        male      0.793     0.852     0.821        27\n",
      "\n",
      "    accuracy                          0.706        34\n",
      "   macro avg      0.497     0.497     0.494        34\n",
      "weighted avg      0.671     0.706     0.687        34\n",
      "\n",
      "Confusion Matrix:\n",
      " [[ 1  6]\n",
      " [ 4 23]]\n",
      "============================================================\n",
      "Training Logistic Regression...\n",
      "Logistic Regression Best Params: {'clf__C': 10, 'vectorizer__max_df': 0.8, 'vectorizer__min_df': 0.05, 'vectorizer__ngram_range': (1, 2)}\n",
      "Logistic Regression CV Best F1-macro: 0.5823581790995291\n",
      "Logistic Regression Test F1-macro: 0.460\n",
      "Classification Report:\n",
      "               precision    recall  f1-score   support\n",
      "\n",
      "      female      0.143     0.143     0.143         7\n",
      "        male      0.778     0.778     0.778        27\n",
      "\n",
      "    accuracy                          0.647        34\n",
      "   macro avg      0.460     0.460     0.460        34\n",
      "weighted avg      0.647     0.647     0.647        34\n",
      "\n",
      "Confusion Matrix:\n",
      " [[ 1  6]\n",
      " [ 6 21]]\n",
      "============================================================\n",
      "Training Linear SVM...\n",
      "Linear SVM Best Params: {'clf__C': 10, 'vectorizer__max_df': 0.8, 'vectorizer__min_df': 0.05, 'vectorizer__ngram_range': (1, 2)}\n",
      "Linear SVM CV Best F1-macro: 0.5993059397416942\n",
      "Linear SVM Test F1-macro: 0.530\n",
      "Classification Report:\n",
      "               precision    recall  f1-score   support\n",
      "\n",
      "      female      0.250     0.286     0.267         7\n",
      "        male      0.808     0.778     0.792        27\n",
      "\n",
      "    accuracy                          0.676        34\n",
      "   macro avg      0.529     0.532     0.530        34\n",
      "weighted avg      0.693     0.676     0.684        34\n",
      "\n",
      "Confusion Matrix:\n",
      " [[ 2  5]\n",
      " [ 6 21]]\n"
     ]
    }
   ],
   "source": [
    "results = []\n",
    "for name, (clf, param_grid) in models.items():\n",
    "    print(\"=\"*60)\n",
    "    print(f\"Training {name}...\")\n",
    "\n",
    "    # Build pipeline\n",
    "    pipeline = Pipeline([\n",
    "        ('vectorizer', CountVectorizer(stop_words='english')),\n",
    "        ('clf', clf)\n",
    "    ])\n",
    "\n",
    "    # Grid search\n",
    "    grid = GridSearchCV(\n",
    "        pipeline,\n",
    "        param_grid,\n",
    "        cv=5,\n",
    "        scoring='f1_macro',\n",
    "        n_jobs=-1\n",
    "    )\n",
    "    grid.fit(X_train, y_train)\n",
    "\n",
    "    # Predictions\n",
    "    y_pred = grid.predict(X_test)\n",
    "\n",
    "    # Metrics\n",
    "    acc = accuracy_score(y_test, y_pred)\n",
    "    prec = precision_score(y_test, y_pred, average='macro', zero_division=0)\n",
    "    rec = recall_score(y_test, y_pred, average='macro', zero_division=0)\n",
    "    f1 = f1_score(y_test, y_pred, average='macro', zero_division=0)\n",
    "\n",
    "    print(f\"{name} Best Params:\", grid.best_params_)\n",
    "    print(f\"{name} CV Best F1-macro:\", grid.best_score_)\n",
    "    print(f\"{name} Test F1-macro: {f1:.3f}\")\n",
    "    print(\"Classification Report:\\n\", classification_report(y_test, y_pred, digits=3))\n",
    "    print(\"Confusion Matrix:\\n\", confusion_matrix(y_test, y_pred))\n",
    "\n",
    "    # Store results\n",
    "    results.append({\n",
    "        \"Model\": name,\n",
    "        \"Best Params\": grid.best_params_,\n",
    "        \"CV F1-macro\": grid.best_score_,\n",
    "        \"Test Accuracy\": acc,\n",
    "        \"Test Precision\": prec,\n",
    "        \"Test Recall\": rec,\n",
    "        \"Test F1-macro\": f1\n",
    "    })"
   ]
  },
  {
   "cell_type": "code",
   "execution_count": 39,
   "id": "f0c4ff7e-d76f-40f9-a13a-0d03c5d6eeb0",
   "metadata": {
    "jupyter": {
     "source_hidden": true
    }
   },
   "outputs": [
    {
     "name": "stdout",
     "output_type": "stream",
     "text": [
      "\n",
      "===== Final Comparison Table =====\n"
     ]
    },
    {
     "data": {
      "text/html": [
       "<div>\n",
       "<style scoped>\n",
       "    .dataframe tbody tr th:only-of-type {\n",
       "        vertical-align: middle;\n",
       "    }\n",
       "\n",
       "    .dataframe tbody tr th {\n",
       "        vertical-align: top;\n",
       "    }\n",
       "\n",
       "    .dataframe thead th {\n",
       "        text-align: right;\n",
       "    }\n",
       "</style>\n",
       "<table border=\"1\" class=\"dataframe\">\n",
       "  <thead>\n",
       "    <tr style=\"text-align: right;\">\n",
       "      <th></th>\n",
       "      <th>Model</th>\n",
       "      <th>Best Params</th>\n",
       "      <th>CV F1-macro</th>\n",
       "      <th>Test Accuracy</th>\n",
       "      <th>Test Precision</th>\n",
       "      <th>Test Recall</th>\n",
       "      <th>Test F1-macro</th>\n",
       "    </tr>\n",
       "  </thead>\n",
       "  <tbody>\n",
       "    <tr>\n",
       "      <th>0</th>\n",
       "      <td>Naive Bayes</td>\n",
       "      <td>{'clf__alpha': 0.1, 'vectorizer__max_df': 0.8, 'vectorizer__min_df': 0.05, 'vectorizer__ngram_range': (1, 1)}</td>\n",
       "      <td>0.588199</td>\n",
       "      <td>0.705882</td>\n",
       "      <td>0.496552</td>\n",
       "      <td>0.497354</td>\n",
       "      <td>0.494048</td>\n",
       "    </tr>\n",
       "    <tr>\n",
       "      <th>1</th>\n",
       "      <td>Logistic Regression</td>\n",
       "      <td>{'clf__C': 10, 'vectorizer__max_df': 0.8, 'vectorizer__min_df': 0.05, 'vectorizer__ngram_range': (1, 2)}</td>\n",
       "      <td>0.582358</td>\n",
       "      <td>0.647059</td>\n",
       "      <td>0.460317</td>\n",
       "      <td>0.460317</td>\n",
       "      <td>0.460317</td>\n",
       "    </tr>\n",
       "    <tr>\n",
       "      <th>2</th>\n",
       "      <td>Linear SVM</td>\n",
       "      <td>{'clf__C': 10, 'vectorizer__max_df': 0.8, 'vectorizer__min_df': 0.05, 'vectorizer__ngram_range': (1, 2)}</td>\n",
       "      <td>0.599306</td>\n",
       "      <td>0.676471</td>\n",
       "      <td>0.528846</td>\n",
       "      <td>0.531746</td>\n",
       "      <td>0.529560</td>\n",
       "    </tr>\n",
       "  </tbody>\n",
       "</table>\n",
       "</div>"
      ],
      "text/plain": [
       "                 Model  \\\n",
       "0          Naive Bayes   \n",
       "1  Logistic Regression   \n",
       "2           Linear SVM   \n",
       "\n",
       "                                                                                                     Best Params  \\\n",
       "0  {'clf__alpha': 0.1, 'vectorizer__max_df': 0.8, 'vectorizer__min_df': 0.05, 'vectorizer__ngram_range': (1, 1)}   \n",
       "1       {'clf__C': 10, 'vectorizer__max_df': 0.8, 'vectorizer__min_df': 0.05, 'vectorizer__ngram_range': (1, 2)}   \n",
       "2       {'clf__C': 10, 'vectorizer__max_df': 0.8, 'vectorizer__min_df': 0.05, 'vectorizer__ngram_range': (1, 2)}   \n",
       "\n",
       "   CV F1-macro  Test Accuracy  Test Precision  Test Recall  Test F1-macro  \n",
       "0     0.588199       0.705882        0.496552     0.497354       0.494048  \n",
       "1     0.582358       0.647059        0.460317     0.460317       0.460317  \n",
       "2     0.599306       0.676471        0.528846     0.531746       0.529560  "
      ]
     },
     "execution_count": 39,
     "metadata": {},
     "output_type": "execute_result"
    }
   ],
   "source": [
    "# Convert the best params & best results of models to dataframe\n",
    "results_df = pd.DataFrame(results)\n",
    "print(\"\\n===== Final Comparison Table =====\")\n",
    "results_df"
   ]
  },
  {
   "cell_type": "markdown",
   "id": "9e4f5fb1-e9ff-44ae-8258-c10a11242deb",
   "metadata": {},
   "source": [
    "### 5. Plot performance comparison between models"
   ]
  },
  {
   "cell_type": "code",
   "execution_count": 42,
   "id": "90a23b57-256e-4e88-822f-8c4a2904ad7c",
   "metadata": {},
   "outputs": [
    {
     "data": {
      "image/png": "[encoded data removed]",
      "text/plain": [
       "<Figure size 1200x600 with 4 Axes>"
      ]
     },
     "metadata": {},
     "output_type": "display_data"
    }
   ],
   "source": [
    "import matplotlib.pyplot as plt\n",
    "\n",
    "# Plot performance comparison\n",
    "metrics = [\"Test Accuracy\", \"Test Precision\", \"Test Recall\", \"Test F1-macro\"]\n",
    "\n",
    "plt.figure(figsize=(12,6))\n",
    "\n",
    "for i, metric in enumerate(metrics, 1):\n",
    "    plt.subplot(1, len(metrics), i)\n",
    "    plt.bar(results_df[\"Model\"], results_df[metric])\n",
    "    plt.title(metric, fontsize=12)\n",
    "    plt.xticks(rotation=45)\n",
    "    plt.ylim(0, 1)  # since metrics are between 0 and 1\n",
    "\n",
    "plt.tight_layout()\n",
    "plt.show()\n"
   ]
  },
  {
   "cell_type": "code",
   "execution_count": 44,
   "id": "8010e3f9-a1a9-4827-a6c7-d8372254060f",
   "metadata": {},
   "outputs": [],
   "source": [
    "# We can see that accuracy is pretty high for all models, which is misleading!\n",
    "# because we can see that F1 Macro (recall & precision) are much lower.\n",
    "# This happened becuase our dataset is pretty small, and significantly imbalanced. \n",
    "# we showed in cells above that the numbers of movies directed by men are almost 4 times more than women! which creates a huge imbalance in our data.\n",
    "# for further improvements, we can use some methods such as oversampling to fix the problem with imbalanced data!\n",
    "# but with the current situation, we can see though Naive Bayes showed slightly higher accuracy, \n",
    "# Linear SVM showed better F1 score than the other models, which is more desirable for us! so here, Linear SVM wins!"
   ]
  }
 ],
 "metadata": {
  "kernelspec": {
   "display_name": "Python 3 (ipykernel)",
   "language": "python",
   "name": "python3"
  },
  "language_info": {
   "codemirror_mode": {
    "name": "ipython",
    "version": 3
   },
   "file_extension": ".py",
   "mimetype": "text/x-python",
   "name": "python",
   "nbconvert_exporter": "python",
   "pygments_lexer": "ipython3",
   "version": "3.12.11"
  }
 },
 "nbformat": 4,
 "nbformat_minor": 5
}
